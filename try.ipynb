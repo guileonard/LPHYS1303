{
 "cells": [
  {
   "cell_type": "code",
   "execution_count": 1,
   "id": "bacterial-mediterranean",
   "metadata": {},
   "outputs": [],
   "source": [
    "from pymatgen import Lattice, Structure, Molecule\n",
    "from pymatgen.symmetry.analyzer import SpacegroupAnalyzer,PointGroupAnalyzer\n",
    "from jupyter_jsmol.pymatgen import quick_view\n",
    "from pymatgen.ext.matproj import MPRester\n",
    "import numpy as np\n",
    "from numpy import pi, dot, transpose"
   ]
  },
  {
   "cell_type": "code",
   "execution_count": 2,
   "id": "sudden-relay",
   "metadata": {},
   "outputs": [],
   "source": [
    "with MPRester(\"yG2goZSVRMrBL7zx\") as m:\n",
    "\n",
    "    # Structure for material id\n",
    "    structure = m.get_structure_by_material_id(\"mp-995181\")\n",
    "\n",
    "    # Bandstructure for material id\n",
    "    bandstructure = m.get_bandstructure_by_material_id(\"mp-995181\")"
   ]
  }
